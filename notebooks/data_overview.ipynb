{
  "cells": [
    {
      "cell_type": "raw",
      "metadata": {
        "vscode": {
          "languageId": "raw"
        }
      },
      "source": [
        "# Health Data Overview\n",
        "\n",
        "This notebook provides a quick overview of all data sources in the health database.\n",
        "\n",
        "## Database Schema\n",
        "\n",
        "The refactored system includes multiple data types:\n",
        "- **Activity Data**: Steps, calories, distance from daily activity tracking\n",
        "- **Sleep Data**: Sleep stages, duration, efficiency from sleep tracking\n",
        "- **User Data**: User information and settings\n",
        "- **Heart Rate Data**: Ready for future heart rate data import\n"
      ]
    },
    {
      "cell_type": "code",
      "execution_count": 1,
      "metadata": {},
      "outputs": [
        {
          "name": "stdout",
          "output_type": "stream",
          "text": [
            "📊 Health Data Analytics System\n",
            "========================================\n"
          ]
        }
      ],
      "source": [
        "# Import required libraries\n",
        "import sys\n",
        "import pandas as pd\n",
        "from pathlib import Path\n",
        "\n",
        "# Add src directory to path for imports\n",
        "project_root = Path.cwd().parent\n",
        "sys.path.insert(0, str(project_root))\n",
        "\n",
        "from src.database.connection import DatabaseConnection\n",
        "from src.database.schema import get_database_stats\n",
        "\n",
        "print(\"📊 Health Data Analytics System\")\n",
        "print(\"=\" * 40)\n"
      ]
    },
    {
      "cell_type": "code",
      "execution_count": 2,
      "metadata": {},
      "outputs": [
        {
          "name": "stdout",
          "output_type": "stream",
          "text": [
            "🔗 Connecting to database: /Users/mgartner/Documents/personal_projects/healthdatabase/data/health_data.db\n",
            "✅ Connected successfully!\n"
          ]
        }
      ],
      "source": [
        "# Connect to database\n",
        "db_path = project_root / \"data\" / \"health_data.db\"\n",
        "print(f\"🔗 Connecting to database: {db_path}\")\n",
        "\n",
        "if not db_path.exists():\n",
        "    print(\"❌ Database not found. Please run setup first:\")\n",
        "    print(\"   python scripts/setup_new_database.py\")\n",
        "else:\n",
        "    db_conn = DatabaseConnection(str(db_path))\n",
        "    print(\"✅ Connected successfully!\")\n"
      ]
    },
    {
      "cell_type": "code",
      "execution_count": 3,
      "metadata": {},
      "outputs": [
        {
          "name": "stdout",
          "output_type": "stream",
          "text": [
            "\n",
            "📈 Database Statistics\n",
            "=========================\n",
            "Schema Version: 2.0\n",
            "Total Records: 1,001\n",
            "Total Tables: 4\n",
            "\n",
            "📋 Table Overview\n",
            "====================\n",
            "users: 1 records\n",
            "daily_activity: 500 records\n",
            "   📅 2023-01-04 to 2024-09-28\n",
            "sleep_data: 500 records\n",
            "   📅 2023-01-04 to 2024-09-28\n",
            "heart_rate_data: 0 records\n"
          ]
        }
      ],
      "source": [
        "# Get database statistics\n",
        "stats = get_database_stats(db_conn)\n",
        "\n",
        "print(\"\\n📈 Database Statistics\")\n",
        "print(\"=\" * 25)\n",
        "print(f\"Schema Version: {stats.get('schema_version', 'unknown')}\")\n",
        "print(f\"Total Records: {stats.get('total_records', 0):,}\")\n",
        "print(f\"Total Tables: {len(stats.get('tables', {}))}\")\n",
        "\n",
        "print(\"\\n📋 Table Overview\")\n",
        "print(\"=\" * 20)\n",
        "for table_name, table_stats in stats.get('tables', {}).items():\n",
        "    print(f\"{table_name}: {table_stats['row_count']:,} records\")\n",
        "    if 'date_range' in table_stats:\n",
        "        date_range = table_stats['date_range']\n",
        "        print(f\"   📅 {date_range['min_date']} to {date_range['max_date']}\")\n"
      ]
    },
    {
      "cell_type": "raw",
      "metadata": {
        "vscode": {
          "languageId": "raw"
        }
      },
      "source": [
        "## 👥 Users Data\n",
        "\n",
        "User information and settings.\n"
      ]
    },
    {
      "cell_type": "code",
      "execution_count": 4,
      "metadata": {},
      "outputs": [
        {
          "name": "stdout",
          "output_type": "stream",
          "text": [
            "📊 Users DataFrame: 1 records\n",
            "\n",
            "🔍 Data Preview:\n"
          ]
        },
        {
          "data": {
            "text/html": [
              "<div>\n",
              "<style scoped>\n",
              "    .dataframe tbody tr th:only-of-type {\n",
              "        vertical-align: middle;\n",
              "    }\n",
              "\n",
              "    .dataframe tbody tr th {\n",
              "        vertical-align: top;\n",
              "    }\n",
              "\n",
              "    .dataframe thead th {\n",
              "        text-align: right;\n",
              "    }\n",
              "</style>\n",
              "<table border=\"1\" class=\"dataframe\">\n",
              "  <thead>\n",
              "    <tr style=\"text-align: right;\">\n",
              "      <th></th>\n",
              "      <th>0</th>\n",
              "      <th>1</th>\n",
              "      <th>2</th>\n",
              "      <th>3</th>\n",
              "      <th>4</th>\n",
              "      <th>5</th>\n",
              "      <th>6</th>\n",
              "    </tr>\n",
              "  </thead>\n",
              "  <tbody>\n",
              "    <tr>\n",
              "      <th>0</th>\n",
              "      <td>1</td>\n",
              "      <td>default</td>\n",
              "      <td>Default User</td>\n",
              "      <td>None</td>\n",
              "      <td>UTC</td>\n",
              "      <td>2025-06-04 16:05:24</td>\n",
              "      <td>2025-06-04 16:05:24</td>\n",
              "    </tr>\n",
              "  </tbody>\n",
              "</table>\n",
              "</div>"
            ],
            "text/plain": [
              "   0        1             2     3    4                    5  \\\n",
              "0  1  default  Default User  None  UTC  2025-06-04 16:05:24   \n",
              "\n",
              "                     6  \n",
              "0  2025-06-04 16:05:24  "
            ]
          },
          "execution_count": 4,
          "metadata": {},
          "output_type": "execute_result"
        }
      ],
      "source": [
        "# Load users data\n",
        "users_query = \"SELECT * FROM users\"\n",
        "users_result = db_conn.execute_query(users_query)\n",
        "users_df = pd.DataFrame(users_result)\n",
        "\n",
        "print(f\"📊 Users DataFrame: {len(users_df)} records\")\n",
        "print(\"\\n🔍 Data Preview:\")\n",
        "users_df.head()\n"
      ]
    },
    {
      "cell_type": "raw",
      "metadata": {
        "vscode": {
          "languageId": "raw"
        }
      },
      "source": [
        "## 🏃 Activity Data\n",
        "\n",
        "Daily activity metrics including steps, calories, and distance.\n"
      ]
    },
    {
      "cell_type": "code",
      "execution_count": 6,
      "metadata": {},
      "outputs": [
        {
          "data": {
            "text/html": [
              "<div>\n",
              "<style scoped>\n",
              "    .dataframe tbody tr th:only-of-type {\n",
              "        vertical-align: middle;\n",
              "    }\n",
              "\n",
              "    .dataframe tbody tr th {\n",
              "        vertical-align: top;\n",
              "    }\n",
              "\n",
              "    .dataframe thead th {\n",
              "        text-align: right;\n",
              "    }\n",
              "</style>\n",
              "<table border=\"1\" class=\"dataframe\">\n",
              "  <thead>\n",
              "    <tr style=\"text-align: right;\">\n",
              "      <th></th>\n",
              "      <th>0</th>\n",
              "      <th>1</th>\n",
              "      <th>2</th>\n",
              "      <th>3</th>\n",
              "      <th>4</th>\n",
              "      <th>5</th>\n",
              "      <th>6</th>\n",
              "      <th>7</th>\n",
              "      <th>8</th>\n",
              "      <th>9</th>\n",
              "      <th>10</th>\n",
              "    </tr>\n",
              "  </thead>\n",
              "  <tbody>\n",
              "    <tr>\n",
              "      <th>0</th>\n",
              "      <td>1</td>\n",
              "      <td>1</td>\n",
              "      <td>2023-01-04</td>\n",
              "      <td>5351</td>\n",
              "      <td>202.0</td>\n",
              "      <td>4160.0</td>\n",
              "      <td>0.0</td>\n",
              "      <td>0</td>\n",
              "      <td>zepp</td>\n",
              "      <td>2025-06-04 16:05:37</td>\n",
              "      <td>2025-06-04 16:05:37</td>\n",
              "    </tr>\n",
              "    <tr>\n",
              "      <th>1</th>\n",
              "      <td>2</td>\n",
              "      <td>1</td>\n",
              "      <td>2023-01-05</td>\n",
              "      <td>8855</td>\n",
              "      <td>326.0</td>\n",
              "      <td>6929.0</td>\n",
              "      <td>0.0</td>\n",
              "      <td>0</td>\n",
              "      <td>zepp</td>\n",
              "      <td>2025-06-04 16:05:37</td>\n",
              "      <td>2025-06-04 16:05:37</td>\n",
              "    </tr>\n",
              "    <tr>\n",
              "      <th>2</th>\n",
              "      <td>3</td>\n",
              "      <td>1</td>\n",
              "      <td>2023-01-06</td>\n",
              "      <td>19256</td>\n",
              "      <td>770.0</td>\n",
              "      <td>16358.0</td>\n",
              "      <td>0.0</td>\n",
              "      <td>0</td>\n",
              "      <td>zepp</td>\n",
              "      <td>2025-06-04 16:05:37</td>\n",
              "      <td>2025-06-04 16:05:37</td>\n",
              "    </tr>\n",
              "    <tr>\n",
              "      <th>3</th>\n",
              "      <td>4</td>\n",
              "      <td>1</td>\n",
              "      <td>2023-01-07</td>\n",
              "      <td>13662</td>\n",
              "      <td>520.0</td>\n",
              "      <td>10902.0</td>\n",
              "      <td>0.0</td>\n",
              "      <td>0</td>\n",
              "      <td>zepp</td>\n",
              "      <td>2025-06-04 16:05:37</td>\n",
              "      <td>2025-06-04 16:05:37</td>\n",
              "    </tr>\n",
              "    <tr>\n",
              "      <th>4</th>\n",
              "      <td>5</td>\n",
              "      <td>1</td>\n",
              "      <td>2023-01-08</td>\n",
              "      <td>14656</td>\n",
              "      <td>557.0</td>\n",
              "      <td>12268.0</td>\n",
              "      <td>0.0</td>\n",
              "      <td>0</td>\n",
              "      <td>zepp</td>\n",
              "      <td>2025-06-04 16:05:37</td>\n",
              "      <td>2025-06-04 16:05:37</td>\n",
              "    </tr>\n",
              "    <tr>\n",
              "      <th>...</th>\n",
              "      <td>...</td>\n",
              "      <td>...</td>\n",
              "      <td>...</td>\n",
              "      <td>...</td>\n",
              "      <td>...</td>\n",
              "      <td>...</td>\n",
              "      <td>...</td>\n",
              "      <td>...</td>\n",
              "      <td>...</td>\n",
              "      <td>...</td>\n",
              "      <td>...</td>\n",
              "    </tr>\n",
              "    <tr>\n",
              "      <th>495</th>\n",
              "      <td>496</td>\n",
              "      <td>1</td>\n",
              "      <td>2024-09-24</td>\n",
              "      <td>26317</td>\n",
              "      <td>954.0</td>\n",
              "      <td>21050.0</td>\n",
              "      <td>8498.0</td>\n",
              "      <td>0</td>\n",
              "      <td>zepp</td>\n",
              "      <td>2025-06-04 16:05:37</td>\n",
              "      <td>2025-06-04 16:05:37</td>\n",
              "    </tr>\n",
              "    <tr>\n",
              "      <th>496</th>\n",
              "      <td>497</td>\n",
              "      <td>1</td>\n",
              "      <td>2024-09-25</td>\n",
              "      <td>24815</td>\n",
              "      <td>893.0</td>\n",
              "      <td>20024.0</td>\n",
              "      <td>8337.0</td>\n",
              "      <td>0</td>\n",
              "      <td>zepp</td>\n",
              "      <td>2025-06-04 16:05:37</td>\n",
              "      <td>2025-06-04 16:05:37</td>\n",
              "    </tr>\n",
              "    <tr>\n",
              "      <th>497</th>\n",
              "      <td>498</td>\n",
              "      <td>1</td>\n",
              "      <td>2024-09-26</td>\n",
              "      <td>23833</td>\n",
              "      <td>903.0</td>\n",
              "      <td>18764.0</td>\n",
              "      <td>3792.0</td>\n",
              "      <td>0</td>\n",
              "      <td>zepp</td>\n",
              "      <td>2025-06-04 16:05:37</td>\n",
              "      <td>2025-06-04 16:05:37</td>\n",
              "    </tr>\n",
              "    <tr>\n",
              "      <th>498</th>\n",
              "      <td>499</td>\n",
              "      <td>1</td>\n",
              "      <td>2024-09-27</td>\n",
              "      <td>14622</td>\n",
              "      <td>568.0</td>\n",
              "      <td>11329.0</td>\n",
              "      <td>344.0</td>\n",
              "      <td>0</td>\n",
              "      <td>zepp</td>\n",
              "      <td>2025-06-04 16:05:37</td>\n",
              "      <td>2025-06-04 16:05:37</td>\n",
              "    </tr>\n",
              "    <tr>\n",
              "      <th>499</th>\n",
              "      <td>500</td>\n",
              "      <td>1</td>\n",
              "      <td>2024-09-28</td>\n",
              "      <td>19281</td>\n",
              "      <td>725.0</td>\n",
              "      <td>15144.0</td>\n",
              "      <td>1509.0</td>\n",
              "      <td>0</td>\n",
              "      <td>zepp</td>\n",
              "      <td>2025-06-04 16:05:37</td>\n",
              "      <td>2025-06-04 16:05:37</td>\n",
              "    </tr>\n",
              "  </tbody>\n",
              "</table>\n",
              "<p>500 rows × 11 columns</p>\n",
              "</div>"
            ],
            "text/plain": [
              "      0   1           2      3      4        5       6   7     8   \\\n",
              "0      1   1  2023-01-04   5351  202.0   4160.0     0.0   0  zepp   \n",
              "1      2   1  2023-01-05   8855  326.0   6929.0     0.0   0  zepp   \n",
              "2      3   1  2023-01-06  19256  770.0  16358.0     0.0   0  zepp   \n",
              "3      4   1  2023-01-07  13662  520.0  10902.0     0.0   0  zepp   \n",
              "4      5   1  2023-01-08  14656  557.0  12268.0     0.0   0  zepp   \n",
              "..   ...  ..         ...    ...    ...      ...     ...  ..   ...   \n",
              "495  496   1  2024-09-24  26317  954.0  21050.0  8498.0   0  zepp   \n",
              "496  497   1  2024-09-25  24815  893.0  20024.0  8337.0   0  zepp   \n",
              "497  498   1  2024-09-26  23833  903.0  18764.0  3792.0   0  zepp   \n",
              "498  499   1  2024-09-27  14622  568.0  11329.0   344.0   0  zepp   \n",
              "499  500   1  2024-09-28  19281  725.0  15144.0  1509.0   0  zepp   \n",
              "\n",
              "                      9                    10  \n",
              "0    2025-06-04 16:05:37  2025-06-04 16:05:37  \n",
              "1    2025-06-04 16:05:37  2025-06-04 16:05:37  \n",
              "2    2025-06-04 16:05:37  2025-06-04 16:05:37  \n",
              "3    2025-06-04 16:05:37  2025-06-04 16:05:37  \n",
              "4    2025-06-04 16:05:37  2025-06-04 16:05:37  \n",
              "..                   ...                  ...  \n",
              "495  2025-06-04 16:05:37  2025-06-04 16:05:37  \n",
              "496  2025-06-04 16:05:37  2025-06-04 16:05:37  \n",
              "497  2025-06-04 16:05:37  2025-06-04 16:05:37  \n",
              "498  2025-06-04 16:05:37  2025-06-04 16:05:37  \n",
              "499  2025-06-04 16:05:37  2025-06-04 16:05:37  \n",
              "\n",
              "[500 rows x 11 columns]"
            ]
          },
          "execution_count": 6,
          "metadata": {},
          "output_type": "execute_result"
        }
      ],
      "source": [
        "# Load activity data\n",
        "activity_query = \"SELECT * FROM daily_activity ORDER BY date\"\n",
        "activity_result = db_conn.execute_query(activity_query)\n",
        "activity_df = pd.DataFrame(activity_result)\n",
        "activity_df\n"
      ]
    },
    {
      "cell_type": "raw",
      "metadata": {
        "vscode": {
          "languageId": "raw"
        }
      },
      "source": [
        "## 😴 Sleep Data\n",
        "\n",
        "Sleep tracking data including sleep stages, duration, and efficiency.\n"
      ]
    },
    {
      "cell_type": "code",
      "execution_count": 7,
      "metadata": {},
      "outputs": [
        {
          "ename": "KeyError",
          "evalue": "'date'",
          "output_type": "error",
          "traceback": [
            "\u001b[0;31m---------------------------------------------------------------------------\u001b[0m",
            "\u001b[0;31mKeyError\u001b[0m                                  Traceback (most recent call last)",
            "Cell \u001b[0;32mIn[7], line 8\u001b[0m\n\u001b[1;32m      6\u001b[0m \u001b[38;5;66;03m# Convert date and timestamp columns for better analysis\u001b[39;00m\n\u001b[1;32m      7\u001b[0m \u001b[38;5;28;01mif\u001b[39;00m \u001b[38;5;129;01mnot\u001b[39;00m sleep_df\u001b[38;5;241m.\u001b[39mempty:\n\u001b[0;32m----> 8\u001b[0m     sleep_df[\u001b[38;5;124m'\u001b[39m\u001b[38;5;124mdate\u001b[39m\u001b[38;5;124m'\u001b[39m] \u001b[38;5;241m=\u001b[39m pd\u001b[38;5;241m.\u001b[39mto_datetime(\u001b[43msleep_df\u001b[49m\u001b[43m[\u001b[49m\u001b[38;5;124;43m'\u001b[39;49m\u001b[38;5;124;43mdate\u001b[39;49m\u001b[38;5;124;43m'\u001b[39;49m\u001b[43m]\u001b[49m)\n\u001b[1;32m      9\u001b[0m     \u001b[38;5;28;01mif\u001b[39;00m \u001b[38;5;124m'\u001b[39m\u001b[38;5;124msleep_start\u001b[39m\u001b[38;5;124m'\u001b[39m \u001b[38;5;129;01min\u001b[39;00m sleep_df\u001b[38;5;241m.\u001b[39mcolumns:\n\u001b[1;32m     10\u001b[0m         sleep_df[\u001b[38;5;124m'\u001b[39m\u001b[38;5;124msleep_start\u001b[39m\u001b[38;5;124m'\u001b[39m] \u001b[38;5;241m=\u001b[39m pd\u001b[38;5;241m.\u001b[39mto_datetime(sleep_df[\u001b[38;5;124m'\u001b[39m\u001b[38;5;124msleep_start\u001b[39m\u001b[38;5;124m'\u001b[39m])\n",
            "File \u001b[0;32m~/Documents/personal_projects/healthdatabase/venv/lib/python3.10/site-packages/pandas/core/frame.py:4102\u001b[0m, in \u001b[0;36mDataFrame.__getitem__\u001b[0;34m(self, key)\u001b[0m\n\u001b[1;32m   4100\u001b[0m \u001b[38;5;28;01mif\u001b[39;00m \u001b[38;5;28mself\u001b[39m\u001b[38;5;241m.\u001b[39mcolumns\u001b[38;5;241m.\u001b[39mnlevels \u001b[38;5;241m>\u001b[39m \u001b[38;5;241m1\u001b[39m:\n\u001b[1;32m   4101\u001b[0m     \u001b[38;5;28;01mreturn\u001b[39;00m \u001b[38;5;28mself\u001b[39m\u001b[38;5;241m.\u001b[39m_getitem_multilevel(key)\n\u001b[0;32m-> 4102\u001b[0m indexer \u001b[38;5;241m=\u001b[39m \u001b[38;5;28;43mself\u001b[39;49m\u001b[38;5;241;43m.\u001b[39;49m\u001b[43mcolumns\u001b[49m\u001b[38;5;241;43m.\u001b[39;49m\u001b[43mget_loc\u001b[49m\u001b[43m(\u001b[49m\u001b[43mkey\u001b[49m\u001b[43m)\u001b[49m\n\u001b[1;32m   4103\u001b[0m \u001b[38;5;28;01mif\u001b[39;00m is_integer(indexer):\n\u001b[1;32m   4104\u001b[0m     indexer \u001b[38;5;241m=\u001b[39m [indexer]\n",
            "File \u001b[0;32m~/Documents/personal_projects/healthdatabase/venv/lib/python3.10/site-packages/pandas/core/indexes/range.py:417\u001b[0m, in \u001b[0;36mRangeIndex.get_loc\u001b[0;34m(self, key)\u001b[0m\n\u001b[1;32m    415\u001b[0m         \u001b[38;5;28;01mraise\u001b[39;00m \u001b[38;5;167;01mKeyError\u001b[39;00m(key) \u001b[38;5;28;01mfrom\u001b[39;00m\u001b[38;5;250m \u001b[39m\u001b[38;5;21;01merr\u001b[39;00m\n\u001b[1;32m    416\u001b[0m \u001b[38;5;28;01mif\u001b[39;00m \u001b[38;5;28misinstance\u001b[39m(key, Hashable):\n\u001b[0;32m--> 417\u001b[0m     \u001b[38;5;28;01mraise\u001b[39;00m \u001b[38;5;167;01mKeyError\u001b[39;00m(key)\n\u001b[1;32m    418\u001b[0m \u001b[38;5;28mself\u001b[39m\u001b[38;5;241m.\u001b[39m_check_indexing_error(key)\n\u001b[1;32m    419\u001b[0m \u001b[38;5;28;01mraise\u001b[39;00m \u001b[38;5;167;01mKeyError\u001b[39;00m(key)\n",
            "\u001b[0;31mKeyError\u001b[0m: 'date'"
          ]
        }
      ],
      "source": [
        "# Load sleep data\n",
        "sleep_query = \"SELECT * FROM sleep_data ORDER BY date\"\n",
        "sleep_result = db_conn.execute_query(sleep_query)\n",
        "sleep_df = pd.DataFrame(sleep_result)\n",
        "\n",
        "# Convert date and timestamp columns for better analysis\n",
        "if not sleep_df.empty:\n",
        "    sleep_df['date'] = pd.to_datetime(sleep_df['date'])\n",
        "    if 'sleep_start' in sleep_df.columns:\n",
        "        sleep_df['sleep_start'] = pd.to_datetime(sleep_df['sleep_start'])\n",
        "    if 'sleep_end' in sleep_df.columns:\n",
        "        sleep_df['sleep_end'] = pd.to_datetime(sleep_df['sleep_end'])\n",
        "\n",
        "print(f\"📊 Sleep DataFrame: {len(sleep_df)} records\")\n",
        "print(\"\\n🔍 Data Preview:\")\n",
        "sleep_df.head()\n"
      ]
    },
    {
      "cell_type": "raw",
      "metadata": {
        "vscode": {
          "languageId": "raw"
        }
      },
      "source": [
        "## ❤️ Heart Rate Data\n",
        "\n",
        "Heart rate measurements (schema ready for future data).\n"
      ]
    },
    {
      "cell_type": "code",
      "execution_count": null,
      "metadata": {},
      "outputs": [],
      "source": [
        "# Load heart rate data (currently empty but schema exists)\n",
        "hr_query = \"SELECT * FROM heart_rate_data ORDER BY timestamp\"\n",
        "hr_result = db_conn.execute_query(hr_query)\n",
        "hr_df = pd.DataFrame(hr_result)\n",
        "\n",
        "# Convert timestamp column if data exists\n",
        "if not hr_df.empty:\n",
        "    hr_df['timestamp'] = pd.to_datetime(hr_df['timestamp'])\n",
        "\n",
        "print(f\"📊 Heart Rate DataFrame: {len(hr_df)} records\")\n",
        "if not hr_df.empty:\n",
        "    print(\"\\n🔍 Data Preview:\")\n",
        "    print(hr_df.head())\n",
        "else:\n",
        "    print(\"💡 No heart rate data yet. Schema is ready for future imports!\")\n",
        "    print(\"\\n📋 Available columns:\")\n",
        "    # Show the schema structure\n",
        "    schema_query = \"PRAGMA table_info(heart_rate_data)\"\n",
        "    schema_result = db_conn.execute_query(schema_query)\n",
        "    schema_df = pd.DataFrame(schema_result)\n",
        "    print(schema_df[['name', 'type']].to_string(index=False))\n"
      ]
    },
    {
      "cell_type": "raw",
      "metadata": {
        "vscode": {
          "languageId": "raw"
        }
      },
      "source": [
        "## 📈 Quick Data Summary\n",
        "\n",
        "Overview of the available datasets and their key metrics.\n"
      ]
    },
    {
      "cell_type": "code",
      "execution_count": null,
      "metadata": {},
      "outputs": [],
      "source": [
        "# Summary of all data sources\n",
        "print(\"🏥 HEALTH DATA SUMMARY\")\n",
        "print(\"=\" * 50)\n",
        "\n",
        "# Activity Data Summary\n",
        "if not activity_df.empty:\n",
        "    print(f\"\\n🏃 ACTIVITY DATA ({len(activity_df)} records)\")\n",
        "    print(f\"   📅 Date Range: {activity_df['date'].min().date()} to {activity_df['date'].max().date()}\")\n",
        "    print(f\"   👣 Average Steps: {activity_df['steps'].mean():.0f}\")\n",
        "    print(f\"   🔥 Average Calories: {activity_df['calories'].mean():.0f}\")\n",
        "    print(f\"   📏 Average Distance: {activity_df['distance'].mean():.2f} km\")\n",
        "\n",
        "# Sleep Data Summary\n",
        "if not sleep_df.empty:\n",
        "    # Filter records with actual sleep data\n",
        "    sleep_with_data = sleep_df[sleep_df['total_sleep_minutes'] > 0]\n",
        "    print(f\"\\n😴 SLEEP DATA ({len(sleep_with_data)} records with sleep)\")\n",
        "    if not sleep_with_data.empty:\n",
        "        print(f\"   📅 Date Range: {sleep_with_data['date'].min().date()} to {sleep_with_data['date'].max().date()}\")\n",
        "        print(f\"   ⏰ Average Sleep: {sleep_with_data['total_sleep_minutes'].mean():.0f} minutes ({sleep_with_data['total_sleep_minutes'].mean()/60:.1f} hours)\")\n",
        "        print(f\"   🌊 Average Deep Sleep: {sleep_with_data['deep_sleep_minutes'].mean():.0f} minutes\")\n",
        "        print(f\"   🌙 Average Light Sleep: {sleep_with_data['light_sleep_minutes'].mean():.0f} minutes\")\n",
        "        print(f\"   🧠 Average REM Sleep: {sleep_with_data['rem_sleep_minutes'].mean():.0f} minutes\")\n",
        "        print(f\"   ⚡ Average Sleep Efficiency: {sleep_with_data['sleep_efficiency'].mean():.1f}%\")\n",
        "\n",
        "# Heart Rate Data Summary\n",
        "print(f\"\\n❤️ HEART RATE DATA ({len(hr_df)} records)\")\n",
        "if hr_df.empty:\n",
        "    print(\"   💡 Schema ready for future heart rate data imports\")\n",
        "\n",
        "print(f\"\\n👥 USERS: {len(users_df)} registered\")\n",
        "\n",
        "print(\"\\n✅ Data overview complete! All datasets loaded successfully.\")\n"
      ]
    }
  ],
  "metadata": {
    "kernelspec": {
      "display_name": "venv",
      "language": "python",
      "name": "python3"
    },
    "language_info": {
      "codemirror_mode": {
        "name": "ipython",
        "version": 3
      },
      "file_extension": ".py",
      "mimetype": "text/x-python",
      "name": "python",
      "nbconvert_exporter": "python",
      "pygments_lexer": "ipython3",
      "version": "3.10.4"
    }
  },
  "nbformat": 4,
  "nbformat_minor": 2
}
